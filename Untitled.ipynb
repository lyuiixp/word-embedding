{
 "cells": [
  {
   "cell_type": "code",
   "execution_count": 2,
   "metadata": {},
   "outputs": [],
   "source": [
    "import tensorflow as tf"
   ]
  },
  {
   "cell_type": "code",
   "execution_count": 3,
   "metadata": {},
   "outputs": [
    {
     "data": {
      "text/plain": [
       "'2.3.1'"
      ]
     },
     "execution_count": 3,
     "metadata": {},
     "output_type": "execute_result"
    }
   ],
   "source": [
    "tf.__version__"
   ]
  },
  {
   "cell_type": "code",
   "execution_count": 5,
   "metadata": {},
   "outputs": [
    {
     "name": "stderr",
     "output_type": "stream",
     "text": [
      "2020-11-11 13:29:47,479 - word2vec2tensor - INFO - running C:\\Users\\Yong\\anaconda3\\lib\\site-packages\\gensim\\scripts\\word2vec2tensor.py --input word2vec.ipynb --output word2vec.ipynb\n",
      "2020-11-11 13:29:47,479 - utils_any2vec - INFO - loading projection weights from word2vec.ipynb\n",
      "Traceback (most recent call last):\n",
      "  File \"C:\\Users\\Yong\\anaconda3\\lib\\runpy.py\", line 193, in _run_module_as_main\n",
      "    \"__main__\", mod_spec)\n",
      "  File \"C:\\Users\\Yong\\anaconda3\\lib\\runpy.py\", line 85, in _run_code\n",
      "    exec(code, run_globals)\n",
      "  File \"C:\\Users\\Yong\\anaconda3\\lib\\site-packages\\gensim\\scripts\\word2vec2tensor.py\", line 94, in <module>\n",
      "    word2vec2tensor(args.input, args.output, args.binary)\n",
      "  File \"C:\\Users\\Yong\\anaconda3\\lib\\site-packages\\gensim\\scripts\\word2vec2tensor.py\", line 68, in word2vec2tensor\n",
      "    model = gensim.models.KeyedVectors.load_word2vec_format(word2vec_model_path, binary=binary)\n",
      "  File \"C:\\Users\\Yong\\anaconda3\\lib\\site-packages\\gensim\\models\\keyedvectors.py\", line 1549, in load_word2vec_format\n",
      "    limit=limit, datatype=datatype)\n",
      "  File \"C:\\Users\\Yong\\anaconda3\\lib\\site-packages\\gensim\\models\\utils_any2vec.py\", line 277, in _load_word2vec_format\n",
      "    vocab_size, vector_size = (int(x) for x in header.split())  # throws for invalid file format\n",
      "  File \"C:\\Users\\Yong\\anaconda3\\lib\\site-packages\\gensim\\models\\utils_any2vec.py\", line 277, in <genexpr>\n",
      "    vocab_size, vector_size = (int(x) for x in header.split())  # throws for invalid file format\n",
      "ValueError: invalid literal for int() with base 10: '{'\n"
     ]
    }
   ],
   "source": [
    "!python -m gensim.scripts.word2vec2tensor --input word2vec --output word2vec"
   ]
  },
  {
   "cell_type": "code",
   "execution_count": null,
   "metadata": {},
   "outputs": [],
   "source": []
  }
 ],
 "metadata": {
  "kernelspec": {
   "display_name": "Python 3",
   "language": "python",
   "name": "python3"
  },
  "language_info": {
   "codemirror_mode": {
    "name": "ipython",
    "version": 3
   },
   "file_extension": ".py",
   "mimetype": "text/x-python",
   "name": "python",
   "nbconvert_exporter": "python",
   "pygments_lexer": "ipython3",
   "version": "3.7.6"
  }
 },
 "nbformat": 4,
 "nbformat_minor": 4
}

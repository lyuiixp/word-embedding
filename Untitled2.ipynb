{
 "cells": [
  {
   "cell_type": "code",
   "execution_count": 13,
   "metadata": {},
   "outputs": [
    {
     "ename": "ModuleNotFoundError",
     "evalue": "No module named 'gensim'",
     "output_type": "error",
     "traceback": [
      "\u001b[1;31m---------------------------------------------------------------------------\u001b[0m",
      "\u001b[1;31mModuleNotFoundError\u001b[0m                       Traceback (most recent call last)",
      "\u001b[1;32m<ipython-input-13-a3e322d452f6>\u001b[0m in \u001b[0;36m<module>\u001b[1;34m\u001b[0m\n\u001b[0;32m      3\u001b[0m \u001b[1;32mimport\u001b[0m \u001b[0mmatplotlib\u001b[0m\u001b[1;33m.\u001b[0m\u001b[0mpyplot\u001b[0m \u001b[1;32mas\u001b[0m \u001b[0mplt\u001b[0m\u001b[1;33m\u001b[0m\u001b[1;33m\u001b[0m\u001b[0m\n\u001b[0;32m      4\u001b[0m \u001b[1;32mimport\u001b[0m \u001b[0mpandas\u001b[0m \u001b[1;32mas\u001b[0m \u001b[0mpd\u001b[0m\u001b[1;33m\u001b[0m\u001b[1;33m\u001b[0m\u001b[0m\n\u001b[1;32m----> 5\u001b[1;33m \u001b[1;32mfrom\u001b[0m \u001b[0mgensim\u001b[0m\u001b[1;33m.\u001b[0m\u001b[0mmodels\u001b[0m \u001b[1;32mimport\u001b[0m \u001b[0mKeyedVectors\u001b[0m\u001b[1;33m\u001b[0m\u001b[1;33m\u001b[0m\u001b[0m\n\u001b[0m\u001b[0;32m      6\u001b[0m \u001b[1;31m# 그래프에서 마이너스 폰트 깨지는 문제에 대한 대처\u001b[0m\u001b[1;33m\u001b[0m\u001b[1;33m\u001b[0m\u001b[1;33m\u001b[0m\u001b[0m\n\u001b[0;32m      7\u001b[0m \u001b[0mmpl\u001b[0m\u001b[1;33m.\u001b[0m\u001b[0mrcParams\u001b[0m\u001b[1;33m[\u001b[0m\u001b[1;34m'axes.unicode_minus'\u001b[0m\u001b[1;33m]\u001b[0m \u001b[1;33m=\u001b[0m \u001b[1;32mFalse\u001b[0m\u001b[1;33m\u001b[0m\u001b[1;33m\u001b[0m\u001b[0m\n",
      "\u001b[1;31mModuleNotFoundError\u001b[0m: No module named 'gensim'"
     ]
    }
   ],
   "source": [
    "from sklearn.manifold import TSNE \n",
    "import matplotlib as mpl \n",
    "import matplotlib.pyplot as plt \n",
    "import pandas as pd \n",
    "from gensim.models import KeyedVectors \n",
    "# 그래프에서 마이너스 폰트 깨지는 문제에 대한 대처 \n",
    "mpl.rcParams['axes.unicode_minus'] = False \n",
    "plt.rc('font', family='D2Coding') \n",
    "def show_tsne(): \n",
    "    tsne = TSNE(n_components=2) \n",
    "    X = tsne.fit_transform(X_show) \n",
    "    \n",
    "    df = pd.DataFrame(X, index=vocab_show, columns=['x', 'y']) \n",
    "    fig = plt.figure() \n",
    "    fig.set_size_inches(30, 20) \n",
    "    ax = fig.add_subplot(1, 1, 1) \n",
    "    ax.scatter(df['x'], df['y']) \n",
    "    \n",
    "    for word, pos in df.iterrows(): \n",
    "        ax.annotate(word, pos, fontsize=10) \n",
    "        \n",
    "    plt.xlabel(\"t-SNE 특성 0\") \n",
    "    plt.ylabel(\"t-SNE 특성 1\") \n",
    "    plt.show()\n",
    "    \n",
    "model_name = 'D:/Data/embedding/data/word-embeddings/word2vec/word2vec' \n",
    "model = KeyedVectors.load_word2vec_format(model_name) \n",
    "\n",
    "vocab = list(model.wv.vocab) \n",
    "X = model[vocab] # sz개의 단어에 대해서만 시각화 \n",
    "\n",
    "sz = 800 \n",
    "X_show = X[:sz,:] \n",
    "vocab_show = vocab[:sz] \n",
    "\n",
    "show_tsne() \n",
    "show_pca()\n",
    "\n"
   ]
  },
  {
   "cell_type": "code",
   "execution_count": null,
   "metadata": {},
   "outputs": [],
   "source": []
  }
 ],
 "metadata": {
  "kernelspec": {
   "display_name": "Python 3",
   "language": "python",
   "name": "python3"
  },
  "language_info": {
   "codemirror_mode": {
    "name": "ipython",
    "version": 3
   },
   "file_extension": ".py",
   "mimetype": "text/x-python",
   "name": "python",
   "nbconvert_exporter": "python",
   "pygments_lexer": "ipython3",
   "version": "3.7.6"
  }
 },
 "nbformat": 4,
 "nbformat_minor": 4
}
